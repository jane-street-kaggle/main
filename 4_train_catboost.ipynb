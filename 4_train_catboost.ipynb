{
 "cells": [
  {
   "cell_type": "code",
   "execution_count": 4,
   "metadata": {},
   "outputs": [
    {
     "name": "stderr",
     "output_type": "stream",
     "text": [
      "/root/micromamba/envs/kaggle/lib/python3.11/site-packages/tqdm/auto.py:21: TqdmWarning: IProgress not found. Please update jupyter and ipywidgets. See https://ipywidgets.readthedocs.io/en/stable/user_install.html\n",
      "  from .autonotebook import tqdm as notebook_tqdm\n"
     ]
    }
   ],
   "source": [
    "import numpy as np\n",
    "import os\n",
    "import gc\n",
    "import pickle\n",
    "import warnings\n",
    "\n",
    "import numpy as np\n",
    "import pandas as pd\n",
    "import polars as pl\n",
    "import matplotlib.pyplot as plt\n",
    "\n",
    "from tqdm.auto import tqdm\n",
    "\n",
    "import torch\n",
    "import torch.nn as nn\n",
    "import torch.nn.functional as F\n",
    "from torch.utils.data import Dataset, DataLoader\n",
    "\n",
    "from pytorch_lightning import LightningDataModule, LightningModule, Trainer\n",
    "from pytorch_lightning.callbacks import EarlyStopping, ModelCheckpoint, Timer\n",
    "\n",
    "from sklearn.metrics import r2_score\n",
    "from sklearn.model_selection import train_test_split\n",
    "from sklearn.ensemble import VotingRegressor\n",
    "\n",
    "import lightgbm as lgb\n",
    "from lightgbm import LGBMRegressor\n",
    "from xgboost import XGBRegressor\n",
    "from catboost import CatBoostRegressor\n",
    "\n",
    "import joblib\n",
    "\n",
    "#import kaggle_evaluation.jane_street_inference_server\n",
    "\n",
    "# 설정\n",
    "warnings.filterwarnings(\"ignore\")\n",
    "pd.options.display.max_columns = None"
   ]
  },
  {
   "cell_type": "code",
   "execution_count": 1,
   "metadata": {},
   "outputs": [],
   "source": [
    "\n",
    "TARGET = 'responder_6'\n",
    "FEAT_COLS_CAT = [f\"feature_{i:02d}\" for i in range(79)]"
   ]
  },
  {
   "cell_type": "code",
   "execution_count": 9,
   "metadata": {},
   "outputs": [],
   "source": [
    "def calculate_r2(y_true, y_pred, weights):\n",
    "    numerator = np.sum(weights * (y_true - y_pred) ** 2)\n",
    "    denominator = np.sum(weights * (y_true ** 2))\n",
    "    r2_score = 1 - (numerator / denominator)\n",
    "    return r2_score"
   ]
  },
  {
   "cell_type": "code",
   "execution_count": 8,
   "metadata": {},
   "outputs": [],
   "source": [
    "import polars as pl\n",
    "\n",
    "def load_data(date_id_range=None, time_id_range=None, columns=None, return_type='pl'):\n",
    "    data = pl.scan_parquet(f'/kaggle/input/js24-preprocessing-create-lags/training.parquet').collect() # 내꺼로 바꾸기 lag 없는거\n",
    "    \n",
    "    if date_id_range is not None:\n",
    "        start_date, end_date = date_id_range\n",
    "        data = data.filter((pl.col(\"date_id\") >= start_date) & (pl.col(\"date_id\") <= end_date))\n",
    "    \n",
    "    if time_id_range is not None:\n",
    "        start_time, end_time = time_id_range\n",
    "        data = data.filter((pl.col(\"time_id\") >= start_time) & (pl.col(\"time_id\") <= end_time))\n",
    "    \n",
    "    if columns is not None:\n",
    "        data = data.select(columns)\n",
    "\n",
    "    if return_type == 'pd':\n",
    "        return data.to_pandas()\n",
    "    else:\n",
    "        return data"
   ]
  },
  {
   "cell_type": "code",
   "execution_count": 12,
   "metadata": {},
   "outputs": [],
   "source": [
    "\n",
    "def train_catboost_holdout(total_days=1699, train_days=680, validation_days=170, cat_features=None, save_model=True, save_path='modelcat2/'):\n",
    "    if save_model and not os.path.exists(save_path): # save path 없으면 만들기 저장할곳\n",
    "        os.makedirs(save_path)\n",
    "    \n",
    "    # Define validation and training range\n",
    "    valid_start = total_days - validation_days\n",
    "    valid_range = (valid_start, total_days - 1)  # Last 170 days\n",
    "    train_start = valid_start - train_days\n",
    "    train_range = (train_start, valid_start - 1)  # Train on last `train_days` before validation\n",
    "    \n",
    "    print(f\"Validation range: {valid_range}\")\n",
    "    print(f\"Training range: {train_range}\")\n",
    "\n",
    "    # Load validation data\n",
    "    valid_data = load_data(\n",
    "        date_id_range=valid_range,\n",
    "        columns=[\"date_id\", \"symbol_id\", \"weight\", \"time_id\"] + FEAT_COLS_CAT + [TARGET],\n",
    "        return_type='pl'\n",
    "    )\n",
    "    \n",
    "    # Load training data\n",
    "    train_data = load_data(\n",
    "        date_id_range=train_range,\n",
    "        columns=[\"date_id\", \"symbol_id\", \"weight\", \"time_id\"] + FEAT_COLS_CAT + [TARGET],\n",
    "        return_type='pl'\n",
    "    )\n",
    "    \n",
    "    # Convert to pandas for CatBoost\n",
    "    train_df = train_data.to_pandas()\n",
    "    valid_df = valid_data.to_pandas()\n",
    "\n",
    "    print(f\"Use categorical features: {cat_features}\")\n",
    "    print(f\"Train shape: {train_df.shape}\")\n",
    "    print(f\"Valid shape: {valid_df.shape}\")\n",
    "\n",
    "    # Train CatBoost model\n",
    "    catboost_model = CatBoostRegressor(\n",
    "        loss_function='RMSE',\n",
    "        eval_metric='RMSE',\n",
    "        iterations=1000,\n",
    "        learning_rate=0.03,\n",
    "        early_stopping_rounds=50,\n",
    "        verbose=100,\n",
    "        cat_features=cat_features,\n",
    "        task_type='GPU'\n",
    "    )\n",
    "\n",
    "    catboost_model.fit(\n",
    "        train_df[FEAT_COLS_CAT + ['symbol_id', 'weight', 'time_id']],\n",
    "        train_df[TARGET],\n",
    "        eval_set=(valid_df[FEAT_COLS_CAT + ['symbol_id', 'weight', 'time_id']], valid_df[TARGET]),\n",
    "        sample_weight=train_df['weight']\n",
    "    )\n",
    "    \n",
    "    # Predict and calculate R2\n",
    "    valid_df['catboost_pred'] = catboost_model.predict(valid_df[FEAT_COLS_CAT + ['symbol_id', 'weight', 'time_id']])\n",
    "    r2_score = calculate_r2(valid_df[TARGET], valid_df['catboost_pred'], valid_df['weight'])\n",
    "    print(f\"CatBoost Hold-out validation R2 score: {r2_score}\")\n",
    "\n",
    "    # Save model\n",
    "    if save_model:\n",
    "        model_path = os.path.join(save_path, \"catboost_holdout_model.pkl\") # 저장할곳\n",
    "        joblib.dump(catboost_model, model_path)\n",
    "        print(f\"Saved model to {model_path}\")\n",
    "\n",
    "    return catboost_model\n"
   ]
  },
  {
   "cell_type": "code",
   "execution_count": 13,
   "metadata": {},
   "outputs": [
    {
     "name": "stdout",
     "output_type": "stream",
     "text": [
      "Validation range: (1529, 1698)\n",
      "Training range: (0, 1528)\n"
     ]
    },
    {
     "name": "stdout",
     "output_type": "stream",
     "text": [
      "Use categorical features: ['feature_09', 'feature_10', 'feature_11', 'symbol_id', 'time_id']\n",
      "Train shape: (40808218, 84)\n",
      "Valid shape: (5860272, 84)\n",
      "0:\tlearn: 0.8592963\ttest: 0.8186848\tbest: 0.8186848 (0)\ttotal: 976ms\tremaining: 16m 15s\n",
      "100:\tlearn: 0.8551070\ttest: 0.8165467\tbest: 0.8165467 (100)\ttotal: 1m 38s\tremaining: 14m 35s\n",
      "200:\tlearn: 0.8536836\ttest: 0.8160565\tbest: 0.8160565 (200)\ttotal: 3m 18s\tremaining: 13m 7s\n",
      "300:\tlearn: 0.8527655\ttest: 0.8157660\tbest: 0.8157660 (300)\ttotal: 4m 58s\tremaining: 11m 34s\n",
      "400:\tlearn: 0.8520024\ttest: 0.8155967\tbest: 0.8155967 (400)\ttotal: 6m 38s\tremaining: 9m 55s\n",
      "500:\tlearn: 0.8513609\ttest: 0.8154919\tbest: 0.8154919 (500)\ttotal: 8m 21s\tremaining: 8m 19s\n",
      "600:\tlearn: 0.8508325\ttest: 0.8154216\tbest: 0.8154212 (597)\ttotal: 10m 2s\tremaining: 6m 39s\n",
      "700:\tlearn: 0.8502459\ttest: 0.8153591\tbest: 0.8153591 (700)\ttotal: 11m 43s\tremaining: 5m\n",
      "800:\tlearn: 0.8497600\ttest: 0.8153258\tbest: 0.8153258 (800)\ttotal: 13m 26s\tremaining: 3m 20s\n",
      "900:\tlearn: 0.8492200\ttest: 0.8153049\tbest: 0.8152905 (872)\ttotal: 15m 11s\tremaining: 1m 40s\n",
      "bestTest = 0.8152904905\n",
      "bestIteration = 872\n",
      "Shrink model to first 873 iterations.\n",
      "CatBoost Hold-out validation R2 score: 0.008636134974736254\n",
      "Saved model to modelcatholdout2/catboost_holdout_model.pkl\n"
     ]
    }
   ],
   "source": [
    "CAT_FEATURES = ['feature_09','feature_10','feature_11', 'symbol_id', 'time_id']\n",
    "catboost_model = train_catboost_holdout(total_days=1699, train_days=1529, validation_days=170, cat_features=CAT_FEATURES, save_path='modelcatholdout2/')"
   ]
  },
  {
   "cell_type": "code",
   "execution_count": null,
   "metadata": {},
   "outputs": [],
   "source": []
  }
 ],
 "metadata": {
  "kernelspec": {
   "display_name": "Python 3",
   "language": "python",
   "name": "python3"
  },
  "language_info": {
   "codemirror_mode": {
    "name": "ipython",
    "version": 3
   },
   "file_extension": ".py",
   "mimetype": "text/x-python",
   "name": "python",
   "nbconvert_exporter": "python",
   "pygments_lexer": "ipython3",
   "version": "3.11.9"
  }
 },
 "nbformat": 4,
 "nbformat_minor": 2
}
