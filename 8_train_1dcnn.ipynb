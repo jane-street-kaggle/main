{
 "cells": [
  {
   "cell_type": "code",
   "execution_count": 36,
   "id": "b8e958012cc8606e",
   "metadata": {
    "ExecuteTime": {
     "end_time": "2025-01-10T07:08:21.373114Z",
     "start_time": "2025-01-10T07:08:20.626469Z"
    }
   },
   "outputs": [],
   "source": [
    "import pandas as pd\n",
    "import numpy as np\n",
    "import torch.nn as nn\n",
    "import torch.nn.functional as F\n",
    "import torch"
   ]
  },
  {
   "cell_type": "code",
   "execution_count": 37,
   "id": "6414bbb8-d7f0-4ba7-9f99-e349a4ae48b5",
   "metadata": {},
   "outputs": [],
   "source": [
    "class CNN1DModel(nn.Module):\n",
    "    def __init__(self,\n",
    "                 num_numerical_features: int,\n",
    "                 hidden_size: int = 1024,\n",
    "                 n_target: int = 1,\n",
    "                 channel_1: int = 64,\n",
    "                 channel_2: int = 128,\n",
    "                 kernel_size: int = 5,\n",
    "                 dropout_rate: float = 0.2):\n",
    "        super().__init__()\n",
    "\n",
    "        self.hidden_size = hidden_size  # Store hidden_size as an instance variable\n",
    "\n",
    "        # 1. Expand 단계: Dense 레이어\n",
    "        self.expand = nn.Sequential(\n",
    "            nn.LayerNorm(num_numerical_features),\n",
    "            nn.Dropout(dropout_rate),\n",
    "            nn.Linear(num_numerical_features, hidden_size),\n",
    "            nn.ReLU()\n",
    "        )\n",
    "\n",
    "        self.conv1 = nn.Sequential(\n",
    "            nn.Conv1d(\n",
    "                in_channels=hidden_size // 16, \n",
    "                out_channels=channel_1, \n",
    "                kernel_size=kernel_size, \n",
    "                stride=1, \n",
    "                padding=kernel_size // 2\n",
    "            ),\n",
    "            nn.ReLU(),\n",
    "            nn.Dropout(dropout_rate)\n",
    "        )\n",
    "\n",
    "        # 3. Conv 블록 2\n",
    "        self.conv2 = nn.Sequential(\n",
    "            nn.Conv1d(\n",
    "                in_channels=channel_1, \n",
    "                out_channels=channel_2, \n",
    "                kernel_size=kernel_size, \n",
    "                stride=1, \n",
    "                padding=kernel_size // 2\n",
    "            ),\n",
    "            nn.ReLU(),\n",
    "            nn.Dropout(dropout_rate),\n",
    "            nn.AdaptiveAvgPool1d(output_size=16)\n",
    "        )\n",
    "\n",
    "        # 4. Flatten and Dense\n",
    "        self.flatten = nn.Flatten()\n",
    "        self.dense = nn.Sequential(\n",
    "            nn.Linear(channel_2 * 16, 640),\n",
    "            nn.ReLU(),\n",
    "            nn.Dropout(dropout_rate),\n",
    "            nn.Linear(640, n_target)\n",
    "        )\n",
    "\n",
    "        # 추가된 Tanh\n",
    "        self.tanh = nn.Tanh()\n",
    "\n",
    "    def forward(self, x):\n",
    "        # 1. Expand 단계\n",
    "        x = self.expand(x)\n",
    "\n",
    "        # 2. Reshape to match Conv input\n",
    "        batch_size = x.size(0)\n",
    "        seq_length = x.size(1) // (self.hidden_size // 16)  # Dynamically compute seq_length\n",
    "        x = x.view(batch_size, self.hidden_size // 16, seq_length)\n",
    "\n",
    "        # 3. Conv 블록 1\n",
    "        x = self.conv1(x)\n",
    "\n",
    "        # 4. Conv 블록 2\n",
    "        x = self.conv2(x)\n",
    "\n",
    "        # 4. Flatten and Dense\n",
    "        x = self.flatten(x)\n",
    "        x = self.dense(x)\n",
    "        x = 5 * self.tanh(x)\n",
    "\n",
    "        return x"
   ]
  },
  {
   "cell_type": "code",
   "execution_count": 38,
   "id": "eee7e46a66e4c424",
   "metadata": {
    "ExecuteTime": {
     "end_time": "2025-01-10T07:08:21.502341Z",
     "start_time": "2025-01-10T07:08:21.499862Z"
    }
   },
   "outputs": [],
   "source": [
    "def weighted_mse_loss(y_true, y_pred, weights):\n",
    "    \"\"\"\n",
    "    Multi-target weighted MSE loss\n",
    "\n",
    "    Args:\n",
    "        y_true: target values (batch_size, n_targets)\n",
    "        y_pred: predicted values (batch_size, n_targets)\n",
    "        weights: weights for each target (batch_size, n_targets)\n",
    "    \"\"\"\n",
    "    return torch.mean(weights * (y_true - y_pred)**2)\n",
    "\n",
    "def weighted_r2_score(y_true, y_pred, weights):\n",
    "    \"\"\"\n",
    "    Multi-target weighted R2 score\n",
    "\n",
    "    Args:\n",
    "        y_true: target values (batch_size, n_targets)\n",
    "        y_pred: predicted values (batch_size, n_targets)\n",
    "        weights: weights for each target (batch_size, n_targets)\n",
    "\n",
    "    Returns:\n",
    "        weighted R2 score (scalar)\n",
    "    \"\"\"\n",
    "    # Ensure inputs are on CPU and converted to numpy\n",
    "    y_true = y_true.detach().cpu().numpy()\n",
    "    y_pred = y_pred.detach().cpu().numpy()\n",
    "    weights = weights.detach().cpu().numpy()\n",
    "\n",
    "    weights = np.repeat(weights, y_true.shape[1], axis=1)\n",
    "\n",
    "    # print(y_true.shape, y_pred.shape, weights.shape)\n",
    "    # Calculate weighted means for each target\n",
    "    weighted_mean = np.average(y_true, weights=weights, axis=0)\n",
    "\n",
    "    # Calculate total sum of squares\n",
    "    total_ss = np.sum(weights * (y_true - weighted_mean) ** 2, axis=0)\n",
    "\n",
    "    # Calculate residual sum of squares\n",
    "    residual_ss = np.sum(weights * (y_true - y_pred) ** 2, axis=0)\n",
    "\n",
    "    # Calculate R2 score for each target\n",
    "    r2_scores = 1 - (residual_ss / total_ss)\n",
    "\n",
    "    # Return mean R2 score across all targets\n",
    "    return np.mean(r2_scores)"
   ]
  },
  {
   "cell_type": "code",
   "execution_count": 54,
   "id": "70674ae941a64fe6",
   "metadata": {
    "ExecuteTime": {
     "end_time": "2025-01-10T07:08:21.433171Z",
     "start_time": "2025-01-10T07:08:21.429338Z"
    }
   },
   "outputs": [],
   "source": [
    "import torch\n",
    "from torch.utils.data import Dataset, DataLoader\n",
    "from tqdm.auto import tqdm\n",
    "\n",
    "class CustomDataset(Dataset):\n",
    "    def __init__(self, data, numerical_columns, target_columns, weight_columns=None):\n",
    "        \"\"\"\n",
    "        Args:\n",
    "            data: pandas DataFrame containing all features\n",
    "            numerical_columns: list of column names for numerical features\n",
    "            target_columns: list of target column names\n",
    "            weight_columns: list of weight column names (optional)\n",
    "        \"\"\"\n",
    "        self.numerical_features = torch.FloatTensor(data[numerical_columns].values)\n",
    "        self.symbol = torch.LongTensor(data['symbol_id'].values)\n",
    "        self.feature_09 = torch.LongTensor(data['feature_09'].values)\n",
    "        self.feature_10 = torch.LongTensor(data['feature_10'].values)\n",
    "        self.feature_11 = torch.LongTensor(data['feature_11'].values)\n",
    "        self.time = torch.LongTensor(data['time_id'].values)\n",
    "\n",
    "        # Multi-target 처리\n",
    "        self.targets = torch.FloatTensor(data[target_columns].values)\n",
    "\n",
    "        # 가중치 처리 (옵션)\n",
    "        if weight_columns:\n",
    "            self.weights = torch.FloatTensor(data[weight_columns].values)\n",
    "        else:\n",
    "            self.weights = torch.ones_like(self.targets)\n",
    "\n",
    "    def __len__(self):\n",
    "        return len(self.targets)\n",
    "\n",
    "    def __getitem__(self, idx):\n",
    "        return {\n",
    "            'numerical_features': self.numerical_features[idx],\n",
    "            'symbol_id': self.symbol[idx],\n",
    "            'feature_09': self.feature_09[idx],\n",
    "            'feature_10': self.feature_10[idx],\n",
    "            'feature_11': self.feature_11[idx],\n",
    "            'time_id': self.time[idx],\n",
    "            'targets': self.targets[idx],\n",
    "            'weights': self.weights[idx]\n",
    "        }\n",
    "\n",
    "def create_data_loaders(train_data, valid_data, numerical_columns,\n",
    "                        target_columns, weight_columns=None,\n",
    "                        batch_size=256, num_workers=1):\n",
    "    \"\"\"\n",
    "    데이터로더를 생성하는 함수\n",
    "\n",
    "    Args:\n",
    "        train_data: 학습 데이터가 담긴 DataFrame\n",
    "        valid_data: 검증 데이터가 담긴 DataFrame\n",
    "        numerical_columns: 수치형 특성들의 컬럼명 리스트\n",
    "        target_columns: 타겟 변수들의 컬럼명 리스트\n",
    "        weight_columns: 가중치 컬럼명 리스트 (옵션)\n",
    "        batch_size: 배치 크기\n",
    "        num_workers: 데이터 로딩에 사용할 워커 수\n",
    "    \"\"\"\n",
    "\n",
    "    # Dataset 객체 생성\n",
    "    train_dataset = CustomDataset(train_data, numerical_columns, target_columns, weight_columns)\n",
    "    valid_dataset = CustomDataset(valid_data, numerical_columns, target_columns, weight_columns)\n",
    "\n",
    "    # DataLoader 생성\n",
    "    train_loader = DataLoader(\n",
    "        train_dataset,\n",
    "        batch_size=batch_size,\n",
    "        shuffle=True,\n",
    "        num_workers=num_workers,\n",
    "        pin_memory=True\n",
    "    )\n",
    "\n",
    "    valid_loader = DataLoader(\n",
    "        valid_dataset,\n",
    "        batch_size=batch_size,\n",
    "        shuffle=False,\n",
    "        num_workers=num_workers,\n",
    "        pin_memory=True\n",
    "    )\n",
    "\n",
    "    return train_loader, valid_loader\n",
    "\n",
    "def train_epoch(model, train_loader, optimizer, device):\n",
    "    model.train()\n",
    "    total_loss = 0\n",
    "    total_r2 = 0\n",
    "    num_batches = len(train_loader)\n",
    "\n",
    "\n",
    "    for batch_idx, batch in enumerate(tqdm(train_loader, desc=\"Training Batches\")):\n",
    "        # 데이터를 디바이스로 이동\n",
    "        numerical_features = batch['numerical_features'].to(device)\n",
    "        symbol = batch['symbol_id'].to(device)\n",
    "        feature_09 = batch['feature_09'].to(device)\n",
    "        feature_10 = batch['feature_10'].to(device)\n",
    "        feature_11 = batch['feature_11'].to(device)\n",
    "        targets = batch['targets'].to(device)\n",
    "        weights = batch['weights'].to(device)\n",
    "\n",
    "        # Forward pass\n",
    "        outputs = model(numerical_features)\n",
    "\n",
    "        # 손실과 R2 score 계산\n",
    "        loss = weighted_mse_loss(targets, outputs, weights)\n",
    "        r2 = weighted_r2_score(targets, outputs, weights)\n",
    "\n",
    "        # Backward pass\n",
    "        optimizer.zero_grad()\n",
    "        loss.backward()\n",
    "        optimizer.step()\n",
    "\n",
    "        total_loss += loss.item()\n",
    "        total_r2 += r2\n",
    "\n",
    "        # 배치별 진행상황 출력 (10배치마다)\n",
    "        if (batch_idx + 1) % 1000 == 0:\n",
    "            avg_loss = total_loss / (batch_idx + 1)\n",
    "            avg_r2 = total_r2 / (batch_idx + 1)\n",
    "            print(f'Batch [{batch_idx+1}/{num_batches}] Loss: {avg_loss:.4f}, R2: {avg_r2:.4f}')\n",
    "\n",
    "    return total_loss / num_batches, total_r2 / num_batches\n",
    "\n",
    "def validate(model, valid_loader, device):\n",
    "    model.eval()\n",
    "    total_loss = 0\n",
    "    total_r2 = 0\n",
    "    num_batches = len(valid_loader)\n",
    "\n",
    "    with torch.no_grad():\n",
    "        for batch_idx, batch in enumerate(tqdm(valid_loader, desc=\"Validation Batches\")):\n",
    "            numerical_features = batch['numerical_features'].to(device)\n",
    "            feature_09 = batch['feature_09'].to(device)\n",
    "            feature_10 = batch['feature_10'].to(device)\n",
    "            feature_11 = batch['feature_11'].to(device)\n",
    "            targets = batch['targets'].to(device)\n",
    "            weights = batch['weights'].to(device)\n",
    "\n",
    "            outputs = model(numerical_features)\n",
    "\n",
    "            loss = weighted_mse_loss(targets, outputs, weights)\n",
    "            r2 = weighted_r2_score(targets, outputs, weights)\n",
    "\n",
    "            total_loss += loss.item()\n",
    "            total_r2 += r2\n",
    "\n",
    "        if (batch_idx + 1) % 1000 == 0:\n",
    "            avg_loss = total_loss / (batch_idx + 1)\n",
    "            avg_r2 = total_r2 / (batch_idx + 1)\n",
    "            print(f'Batch [{batch_idx+1}/{num_batches}] Loss: {avg_loss:.4f}, R2: {avg_r2:.4f}')\n",
    "        \n",
    "    return total_loss / num_batches, total_r2 / num_batches"
   ]
  },
  {
   "cell_type": "code",
   "execution_count": 40,
   "id": "ef27647920443fc0",
   "metadata": {
    "ExecuteTime": {
     "end_time": "2025-01-10T07:08:30.651969Z",
     "start_time": "2025-01-10T07:08:21.557543Z"
    }
   },
   "outputs": [],
   "source": [
    "import polars as pl\n",
    "train = pl.scan_parquet(\"/kaggle/input/js24-preprocessing-create-lags/training.parquet\").collect()\n",
    "valid = pl.scan_parquet(\"/kaggle/input/js24-preprocessing-create-lags/validation.parquet\").collect()"
   ]
  },
  {
   "cell_type": "code",
   "execution_count": 41,
   "id": "38009203f70d09a6",
   "metadata": {
    "ExecuteTime": {
     "end_time": "2025-01-10T07:08:37.258361Z",
     "start_time": "2025-01-10T07:08:37.256584Z"
    }
   },
   "outputs": [],
   "source": [
    "import joblib\n",
    "\n",
    "device = torch.device('cuda:0' if torch.cuda.is_available() else 'cpu')\n",
    "feature_train_list = [f\"feature_{idx:02d}\" for idx in range(79)] \n",
    "target_col = \"responder_6\"\n",
    "feature_train = feature_train_list + [f\"responder_{idx}_lag_1\" for idx in range(9)] \n",
    "\n",
    "feature_cat = [\"feature_09\", \"feature_10\", \"feature_11\"]\n",
    "feature_cont = [item for item in feature_train if item not in feature_cat]\n",
    "std_feature = [i for i in feature_train_list if i not in feature_cat] + [f\"responder_{idx}_lag_1\" for idx in range(9)]\n",
    "\n",
    "data_stats = joblib.load(\"/kaggle/input/jane-street-data-preprocessing/data_stats.pkl\")\n",
    "means = data_stats['mean']\n",
    "stds = data_stats['std']\n",
    "\n",
    "def standardize(df, feature_cols, means, stds):\n",
    "    return df.with_columns([\n",
    "        ((pl.col(col) - means[col]) / stds[col]).alias(col) for col in feature_cols\n",
    "    ])\n",
    "\n",
    "numerical_columns = feature_train + ['date_id', 'symbol_id', 'time_id']\n",
    "target_columns = ['responder_6'] # 예측할 타겟들\n",
    "weight_columns = ['weight']  # 각 타겟에 대한 가중치 (옵션)\n",
    "\n",
    "train = standardize(train, numerical_columns, means, stds).to_pandas()\n",
    "valid = standardize(valid, numerical_columns, means, stds).to_pandas()\n"
   ]
  },
  {
   "cell_type": "code",
   "execution_count": 42,
   "id": "d9052491a271b379",
   "metadata": {
    "ExecuteTime": {
     "end_time": "2025-01-10T07:08:44.314990Z",
     "start_time": "2025-01-10T07:08:44.302666Z"
    }
   },
   "outputs": [
    {
     "data": {
      "text/plain": [
       "device(type='cuda')"
      ]
     },
     "execution_count": 42,
     "metadata": {},
     "output_type": "execute_result"
    }
   ],
   "source": [
    "device = torch.device('cuda' if torch.cuda.is_available() else 'cpu')\n",
    "device"
   ]
  },
  {
   "cell_type": "code",
   "execution_count": 47,
   "id": "e5cb1c90",
   "metadata": {},
   "outputs": [],
   "source": [
    "train = train.dropna()\n",
    "valid = valid.dropna()"
   ]
  },
  {
   "cell_type": "code",
   "execution_count": 55,
   "id": "e7c465a6c15ed71f",
   "metadata": {
    "ExecuteTime": {
     "end_time": "2025-01-10T07:24:31.912968Z",
     "start_time": "2025-01-10T07:24:25.714920Z"
    }
   },
   "outputs": [],
   "source": [
    "# 컬럼 정의\n",
    "# 데이터로더 생성\n",
    "train_loader, valid_loader = create_data_loaders(\n",
    "    train_data=train,\n",
    "    valid_data=valid,\n",
    "    numerical_columns=numerical_columns,\n",
    "    target_columns=target_columns,\n",
    "    weight_columns=weight_columns,\n",
    "    batch_size=2048 * 4,\n",
    "    num_workers=0\n",
    ")"
   ]
  },
  {
   "cell_type": "code",
   "execution_count": 52,
   "id": "4b3c0aa9c23428d6",
   "metadata": {
    "ExecuteTime": {
     "end_time": "2025-01-10T07:24:32.122034Z",
     "start_time": "2025-01-10T07:24:32.112746Z"
    }
   },
   "outputs": [],
   "source": [
    "# 모델 초기화\n",
    "model = CNN1DModel(\n",
    "    num_numerical_features=len(numerical_columns),\n",
    "    n_target=len(target_columns),\n",
    ").to(device)"
   ]
  },
  {
   "cell_type": "code",
   "execution_count": 53,
   "id": "e82deb40bf6cbb45",
   "metadata": {
    "ExecuteTime": {
     "start_time": "2025-01-10T07:24:39.966268Z"
    },
    "jupyter": {
     "is_executing": true
    }
   },
   "outputs": [
    {
     "data": {
      "application/vnd.jupyter.widget-view+json": {
       "model_id": "e190e9bb72ff42f38b86b9e83a72f2a5",
       "version_major": 2,
       "version_minor": 0
      },
      "text/plain": [
       "Training Batches:   0%|          | 0/4212 [00:00<?, ?it/s]"
      ]
     },
     "metadata": {},
     "output_type": "display_data"
    }
   ],
   "source": [
    " # 학습 루프 수정\n",
    "num_epochs = 100\n",
    "optimizer = torch.optim.AdamW(model.parameters(), lr=1e-4, weight_decay = 5e-4)\n",
    "\n",
    "for epoch in range(num_epochs):\n",
    "    train_loss, train_r2 = train_epoch(model, train_loader, optimizer, device)\n",
    "    valid_loss, valid_r2 = validate(model, valid_loader, device)\n",
    "\n",
    "    print(f'Epoch {epoch+1}/{num_epochs}:')\n",
    "    print(f'Train Loss: {train_loss:.4f}, Train R2: {train_r2:.4f}')\n",
    "    print(f'Valid Loss: {valid_loss:.4f}, Valid R2: {valid_r2:.4f}')\n",
    "    print('-' * 50)"
   ]
  },
  {
   "cell_type": "code",
   "execution_count": null,
   "id": "c0adbc8f",
   "metadata": {},
   "outputs": [],
   "source": []
  }
 ],
 "metadata": {
  "kernelspec": {
   "display_name": "Python 3 (ipykernel)",
   "language": "python",
   "name": "python3"
  },
  "language_info": {
   "codemirror_mode": {
    "name": "ipython",
    "version": 3
   },
   "file_extension": ".py",
   "mimetype": "text/x-python",
   "name": "python",
   "nbconvert_exporter": "python",
   "pygments_lexer": "ipython3",
   "version": "3.11.10"
  }
 },
 "nbformat": 4,
 "nbformat_minor": 5
}
