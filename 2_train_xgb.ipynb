{
 "cells": [
  {
   "cell_type": "code",
   "execution_count": 17,
   "metadata": {},
   "outputs": [],
   "source": [
    "import warnings \n",
    "warnings.filterwarnings('ignore')\n",
    "\n",
    "import pandas as pd\n",
    "import polars as pl\n",
    "import numpy as np\n",
    "\n",
    "import warnings\n",
    "warnings.filterwarnings('ignore')\n",
    "pd.options.display.max_columns = None"
   ]
  },
  {
   "cell_type": "code",
   "execution_count": 18,
   "metadata": {},
   "outputs": [],
   "source": [
    "class CONFIG:\n",
    "    seed = 42\n",
    "    target_col = \"responder_6\"\n",
    "    feature_cols = [\"symbol_id\", \"time_id\"] \\\n",
    "        + [f\"feature_{idx:02d}\" for idx in range(79)] \\\n",
    "        + [f\"responder_{idx}_lag_1\" for idx in range(9)]\n",
    "    \n",
    "train = pl.scan_parquet(\"/kaggle/input/js24-preprocessing-create-lags/training.parquet\").collect().to_pandas()\n",
    "valid = pl.scan_parquet(\"/kaggle/input/js24-preprocessing-create-lags/validation.parquet\").collect().to_pandas()\n",
    "train = pd.concat([train, valid]).reset_index(drop=True)"
   ]
  },
  {
   "cell_type": "code",
   "execution_count": 35,
   "metadata": {},
   "outputs": [],
   "source": [
    "import xgboost as xgb  # Import the XGBoost library\n",
    "\n",
    "def get_model(seed):\n",
    "    # XGBoost parameters\n",
    "    XGB_Params = {\n",
    "        'learning_rate': 0.05,\n",
    "        'max_depth': 6,\n",
    "        'subsample': 0.8,\n",
    "        'colsample_bytree': 0.8,\n",
    "        'reg_alpha': 1,\n",
    "        'reg_lambda': 5,\n",
    "        'random_state': seed,\n",
    "        'tree_method': 'gpu_hist',\n",
    "        'n_gpus': 1,\n",
    "        'objective': 'reg:squarederror',  # Specify the objective function\n",
    "        'eval_metric': 'rmse',          # Optional: Specify evaluation metric\n",
    "    }\n",
    "    return XGB_Params\n",
    "\n",
    "# Prepare training and validation data\n",
    "X_train = train[CONFIG.feature_cols]\n",
    "y_train = train[CONFIG.target_col]\n",
    "w_train = train[\"weight\"]\n",
    "\n",
    "X_valid = valid[CONFIG.feature_cols]\n",
    "y_valid = valid[CONFIG.target_col]\n",
    "w_valid = valid[\"weight\"]\n",
    "\n",
    "# Create DMatrix objects for training and validation\n",
    "Xy_train = xgb.DMatrix(X_train, label=y_train, weight=w_train)\n",
    "Xy_valid = xgb.DMatrix(X_valid, label=y_valid, weight=w_valid)\n",
    "\n"
   ]
  },
  {
   "cell_type": "code",
   "execution_count": null,
   "metadata": {},
   "outputs": [],
   "source": [
    "import gc\n",
    "gc.collect()"
   ]
  },
  {
   "cell_type": "code",
   "execution_count": null,
   "metadata": {},
   "outputs": [],
   "source": [
    "# Get model parameters\n",
    "params = get_model(CONFIG.seed)\n",
    "\n",
    "# Number of boosting rounds\n",
    "num_boost_round = 2000\n",
    "\n",
    "# Train the model using xgboost.train\n",
    "evals = [(Xy_train, 'train'), (Xy_valid, 'valid')]\n",
    "model = xgb.train(\n",
    "    params=params,\n",
    "    dtrain=Xy_train,\n",
    "    num_boost_round=num_boost_round,\n",
    "    evals=evals,\n",
    "    early_stopping_rounds=50,  # Optional: Enable early stopping\n",
    "    verbose_eval=True          # Optional: Display training progress\n",
    ")"
   ]
  },
  {
   "cell_type": "code",
   "execution_count": 36,
   "metadata": {},
   "outputs": [
    {
     "data": {
      "text/plain": [
       "0.027356743812561035"
      ]
     },
     "execution_count": 36,
     "metadata": {},
     "output_type": "execute_result"
    }
   ],
   "source": [
    "from sklearn.metrics import r2_score\n",
    "y_pred_valid = model.predict(Xy_valid)\n",
    "valid_score = r2_score(y_valid, y_pred_valid, sample_weight=w_valid )\n",
    "valid_score"
   ]
  },
  {
   "cell_type": "code",
   "execution_count": 38,
   "metadata": {},
   "outputs": [
    {
     "name": "stdout",
     "output_type": "stream",
     "text": [
      "symbol_id = 0, y_means = -0.00257\n",
      "symbol_id = 1, y_means = -0.00372\n",
      "symbol_id = 2, y_means = -0.00027\n",
      "symbol_id = 3, y_means = 0.00263\n",
      "symbol_id = 4, y_means = 0.00315\n",
      "symbol_id = 5, y_means = -0.00458\n",
      "symbol_id = 6, y_means = 0.00236\n",
      "symbol_id = 7, y_means = -0.00109\n",
      "symbol_id = 8, y_means = 0.00111\n",
      "symbol_id = 9, y_means = -0.02493\n",
      "symbol_id = 10, y_means = 0.00221\n",
      "symbol_id = 11, y_means = -0.00213\n",
      "symbol_id = 12, y_means = -0.00900\n",
      "symbol_id = 13, y_means = -0.00105\n",
      "symbol_id = 14, y_means = -0.00321\n",
      "symbol_id = 15, y_means = 0.00109\n",
      "symbol_id = 16, y_means = 0.00085\n",
      "symbol_id = 17, y_means = 0.00070\n",
      "symbol_id = 18, y_means = 0.00169\n",
      "symbol_id = 19, y_means = 0.00043\n",
      "symbol_id = 20, y_means = -0.00376\n",
      "symbol_id = 21, y_means = -0.00393\n",
      "symbol_id = 22, y_means = -0.00461\n",
      "symbol_id = 23, y_means = 0.00686\n",
      "symbol_id = 24, y_means = -0.00810\n",
      "symbol_id = 25, y_means = -0.01133\n",
      "symbol_id = 26, y_means = 0.00131\n",
      "symbol_id = 27, y_means = -0.00458\n",
      "symbol_id = 28, y_means = -0.00149\n",
      "symbol_id = 29, y_means = -0.00584\n",
      "symbol_id = 30, y_means = -0.00596\n",
      "symbol_id = 31, y_means = -0.00765\n",
      "symbol_id = 32, y_means = 0.00230\n",
      "symbol_id = 33, y_means = -0.00996\n",
      "symbol_id = 34, y_means = 0.01160\n",
      "symbol_id = 35, y_means = -0.00052\n",
      "symbol_id = 36, y_means = 0.00153\n",
      "symbol_id = 37, y_means = 0.00250\n",
      "symbol_id = 38, y_means = 0.00042\n",
      "symbol_id = 0, score = 0.01080\n",
      "symbol_id = 1, score = 0.02032\n",
      "symbol_id = 2, score = 0.01646\n",
      "symbol_id = 3, score = 0.01988\n",
      "symbol_id = 4, score = 0.05685\n",
      "symbol_id = 5, score = 0.02869\n",
      "symbol_id = 6, score = -0.00149\n",
      "symbol_id = 7, score = 0.01588\n",
      "symbol_id = 8, score = 0.02874\n",
      "symbol_id = 9, score = 0.00704\n",
      "symbol_id = 10, score = 0.01325\n",
      "symbol_id = 11, score = 0.00970\n",
      "symbol_id = 12, score = 0.02724\n",
      "symbol_id = 13, score = 0.02556\n",
      "symbol_id = 14, score = 0.00866\n",
      "symbol_id = 15, score = 0.04260\n",
      "symbol_id = 16, score = 0.00957\n",
      "symbol_id = 17, score = 0.08203\n",
      "symbol_id = 18, score = 0.01723\n",
      "symbol_id = 19, score = 0.08864\n",
      "symbol_id = 20, score = 0.04221\n",
      "symbol_id = 21, score = 0.01367\n",
      "symbol_id = 22, score = 0.00862\n",
      "symbol_id = 23, score = 0.01211\n",
      "symbol_id = 24, score = 0.02138\n",
      "symbol_id = 25, score = 0.01857\n",
      "symbol_id = 26, score = 0.00771\n",
      "symbol_id = 27, score = 0.04149\n",
      "symbol_id = 28, score = 0.01108\n",
      "symbol_id = 29, score = 0.02612\n",
      "symbol_id = 30, score = 0.01056\n",
      "symbol_id = 31, score = 0.02929\n",
      "symbol_id = 32, score = 0.02004\n",
      "symbol_id = 33, score = 0.01176\n",
      "symbol_id = 34, score = 0.02263\n",
      "symbol_id = 35, score = 0.01880\n",
      "symbol_id = 36, score = -0.00016\n",
      "symbol_id = 37, score = 0.01071\n",
      "symbol_id = 38, score = 0.02691\n"
     ]
    },
    {
     "data": {
      "image/png": "[encoded data removed]",
      "text/plain": [
       "<Figure size 640x480 with 1 Axes>"
      ]
     },
     "metadata": {},
     "output_type": "display_data"
    }
   ],
   "source": [
    "from matplotlib import pyplot as plt\n",
    "\n",
    "\n",
    "y_means = { symbol_id : -1 for symbol_id in range(39) }\n",
    "for symbol_id, gdf in train[[\"symbol_id\", CONFIG.target_col]].groupby(\"symbol_id\"):\n",
    "    y_mean = gdf[ CONFIG.target_col ].mean()\n",
    "    y_means[symbol_id] = y_mean\n",
    "    print(f\"symbol_id = {symbol_id}, y_means = {y_mean:.5f}\")\n",
    "    \n",
    "cv_detail = { symbol_id : 0 for symbol_id in range(39) }\n",
    "for symbol_id, gdf in valid.groupby(\"symbol_id\"):\n",
    "    X_valid = gdf[ CONFIG.feature_cols ]\n",
    "    y_valid = gdf[ CONFIG.target_col ]\n",
    "    w_valid = gdf[ \"weight\" ]\n",
    "    Xy_valid = xgb.DMatrix(X_valid, label=y_valid, weight=w_valid)\n",
    "    y_pred_valid = model.predict(Xy_valid)\n",
    "    score = r2_score(y_valid, y_pred_valid, sample_weight=w_valid)\n",
    "    cv_detail[symbol_id] = score\n",
    "    \n",
    "    print(f\"symbol_id = {symbol_id}, score = {score:.5f}\")\n",
    "    \n",
    "sids = list(cv_detail.keys())\n",
    "plt.bar(sids, [cv_detail[sid] for sid in sids])\n",
    "plt.grid()\n",
    "plt.xlabel(\"symbol_id\")\n",
    "plt.ylabel(\"CV score\")\n",
    "plt.show()"
   ]
  },
  {
   "cell_type": "code",
   "execution_count": 40,
   "metadata": {},
   "outputs": [],
   "source": [
    "import os\n",
    "import dill\n",
    "\n",
    "result = {\n",
    "    \"model\" : model,\n",
    "    \"cv\" : valid_score,\n",
    "    \"cv_detail\" : cv_detail,\n",
    "    \"y_mean\" : y_means,\n",
    "}\n",
    "os.makedirs('./modelxgb', exist_ok=True)\n",
    "with open(\"./modelxgb/xgb_result.dill\", \"wb\") as fp:\n",
    "    dill.dump(result, fp)"
   ]
  },
  {
   "cell_type": "code",
   "execution_count": null,
   "metadata": {},
   "outputs": [],
   "source": []
  }
 ],
 "metadata": {
  "kernelspec": {
   "display_name": "Python 3",
   "language": "python",
   "name": "python3"
  },
  "language_info": {
   "codemirror_mode": {
    "name": "ipython",
    "version": 3
   },
   "file_extension": ".py",
   "mimetype": "text/x-python",
   "name": "python",
   "nbconvert_exporter": "python",
   "pygments_lexer": "ipython3",
   "version": "3.11.9"
  }
 },
 "nbformat": 4,
 "nbformat_minor": 2
}
